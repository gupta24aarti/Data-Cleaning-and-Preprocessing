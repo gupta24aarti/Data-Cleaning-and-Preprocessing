{
 "cells": [
  {
   "cell_type": "markdown",
   "id": "70f6a28a-e885-4c1a-9656-0f77bbd01752",
   "metadata": {},
   "source": [
    "# Data Cleaning and Preprocessing"
   ]
  },
  {
   "cell_type": "markdown",
   "id": "d9c7fed9-eb19-41a0-a9d7-04af8deec419",
   "metadata": {},
   "source": [
    "### Import Libraries"
   ]
  },
  {
   "cell_type": "code",
   "execution_count": 6,
   "id": "25931965-57d4-42ed-80fd-ea2b46370d0f",
   "metadata": {},
   "outputs": [],
   "source": [
    "import pandas as pd\n",
    "import numpy as np\n",
    "import seaborn as sns\n",
    "import matplotlib.pyplot as plt"
   ]
  },
  {
   "cell_type": "markdown",
   "id": "a81336cb-db0c-42a5-bf11-101482dcce84",
   "metadata": {},
   "source": [
    "### Load the dataset"
   ]
  },
  {
   "cell_type": "code",
   "execution_count": 61,
   "id": "aed3d503-3653-40e3-959f-ba037d300245",
   "metadata": {},
   "outputs": [
    {
     "data": {
      "text/html": [
       "<div>\n",
       "<style scoped>\n",
       "    .dataframe tbody tr th:only-of-type {\n",
       "        vertical-align: middle;\n",
       "    }\n",
       "\n",
       "    .dataframe tbody tr th {\n",
       "        vertical-align: top;\n",
       "    }\n",
       "\n",
       "    .dataframe thead th {\n",
       "        text-align: right;\n",
       "    }\n",
       "</style>\n",
       "<table border=\"1\" class=\"dataframe\">\n",
       "  <thead>\n",
       "    <tr style=\"text-align: right;\">\n",
       "      <th></th>\n",
       "      <th>PassengerId</th>\n",
       "      <th>Survived</th>\n",
       "      <th>Pclass</th>\n",
       "      <th>Name</th>\n",
       "      <th>Sex</th>\n",
       "      <th>Age</th>\n",
       "      <th>SibSp</th>\n",
       "      <th>Parch</th>\n",
       "      <th>Ticket</th>\n",
       "      <th>Fare</th>\n",
       "      <th>Cabin</th>\n",
       "      <th>Embarked</th>\n",
       "    </tr>\n",
       "  </thead>\n",
       "  <tbody>\n",
       "    <tr>\n",
       "      <th>0</th>\n",
       "      <td>1</td>\n",
       "      <td>0</td>\n",
       "      <td>3</td>\n",
       "      <td>Braund, Mr. Owen Harris</td>\n",
       "      <td>male</td>\n",
       "      <td>22.0</td>\n",
       "      <td>1</td>\n",
       "      <td>0</td>\n",
       "      <td>A/5 21171</td>\n",
       "      <td>7.2500</td>\n",
       "      <td>NaN</td>\n",
       "      <td>S</td>\n",
       "    </tr>\n",
       "    <tr>\n",
       "      <th>1</th>\n",
       "      <td>2</td>\n",
       "      <td>1</td>\n",
       "      <td>1</td>\n",
       "      <td>Cumings, Mrs. John Bradley (Florence Briggs Th...</td>\n",
       "      <td>female</td>\n",
       "      <td>38.0</td>\n",
       "      <td>1</td>\n",
       "      <td>0</td>\n",
       "      <td>PC 17599</td>\n",
       "      <td>71.2833</td>\n",
       "      <td>C85</td>\n",
       "      <td>C</td>\n",
       "    </tr>\n",
       "    <tr>\n",
       "      <th>2</th>\n",
       "      <td>3</td>\n",
       "      <td>1</td>\n",
       "      <td>3</td>\n",
       "      <td>Heikkinen, Miss. Laina</td>\n",
       "      <td>female</td>\n",
       "      <td>26.0</td>\n",
       "      <td>0</td>\n",
       "      <td>0</td>\n",
       "      <td>STON/O2. 3101282</td>\n",
       "      <td>7.9250</td>\n",
       "      <td>NaN</td>\n",
       "      <td>S</td>\n",
       "    </tr>\n",
       "    <tr>\n",
       "      <th>3</th>\n",
       "      <td>4</td>\n",
       "      <td>1</td>\n",
       "      <td>1</td>\n",
       "      <td>Futrelle, Mrs. Jacques Heath (Lily May Peel)</td>\n",
       "      <td>female</td>\n",
       "      <td>35.0</td>\n",
       "      <td>1</td>\n",
       "      <td>0</td>\n",
       "      <td>113803</td>\n",
       "      <td>53.1000</td>\n",
       "      <td>C123</td>\n",
       "      <td>S</td>\n",
       "    </tr>\n",
       "    <tr>\n",
       "      <th>4</th>\n",
       "      <td>5</td>\n",
       "      <td>0</td>\n",
       "      <td>3</td>\n",
       "      <td>Allen, Mr. William Henry</td>\n",
       "      <td>male</td>\n",
       "      <td>35.0</td>\n",
       "      <td>0</td>\n",
       "      <td>0</td>\n",
       "      <td>373450</td>\n",
       "      <td>8.0500</td>\n",
       "      <td>NaN</td>\n",
       "      <td>S</td>\n",
       "    </tr>\n",
       "  </tbody>\n",
       "</table>\n",
       "</div>"
      ],
      "text/plain": [
       "   PassengerId  Survived  Pclass  \\\n",
       "0            1         0       3   \n",
       "1            2         1       1   \n",
       "2            3         1       3   \n",
       "3            4         1       1   \n",
       "4            5         0       3   \n",
       "\n",
       "                                                Name     Sex   Age  SibSp  \\\n",
       "0                            Braund, Mr. Owen Harris    male  22.0      1   \n",
       "1  Cumings, Mrs. John Bradley (Florence Briggs Th...  female  38.0      1   \n",
       "2                             Heikkinen, Miss. Laina  female  26.0      0   \n",
       "3       Futrelle, Mrs. Jacques Heath (Lily May Peel)  female  35.0      1   \n",
       "4                           Allen, Mr. William Henry    male  35.0      0   \n",
       "\n",
       "   Parch            Ticket     Fare Cabin Embarked  \n",
       "0      0         A/5 21171   7.2500   NaN        S  \n",
       "1      0          PC 17599  71.2833   C85        C  \n",
       "2      0  STON/O2. 3101282   7.9250   NaN        S  \n",
       "3      0            113803  53.1000  C123        S  \n",
       "4      0            373450   8.0500   NaN        S  "
      ]
     },
     "execution_count": 61,
     "metadata": {},
     "output_type": "execute_result"
    }
   ],
   "source": [
    "df = pd.read_csv('Titanic-Dataset.csv')\n",
    "df.head()"
   ]
  },
  {
   "cell_type": "markdown",
   "id": "8c9927d8-b90c-48c2-9433-03ee4e67d0c0",
   "metadata": {},
   "source": [
    "### Checking shape of the data"
   ]
  },
  {
   "cell_type": "code",
   "execution_count": 62,
   "id": "b2952889-44f0-48ce-a41a-e4fd6745ceb5",
   "metadata": {},
   "outputs": [
    {
     "name": "stdout",
     "output_type": "stream",
     "text": [
      "Number of Column:  12\n",
      "Number of Rows:  891\n"
     ]
    }
   ],
   "source": [
    "print('Number of Column: ', df.shape[1])\n",
    "print('Number of Rows: ', df.shape[0])"
   ]
  },
  {
   "cell_type": "markdown",
   "id": "de835c6f-9ec4-44b9-b567-4f6008146a2a",
   "metadata": {},
   "source": [
    "### Checking the data type of the data"
   ]
  },
  {
   "cell_type": "code",
   "execution_count": 63,
   "id": "2fca1e0d-e68b-4b9c-953a-d3580039e03b",
   "metadata": {},
   "outputs": [
    {
     "name": "stdout",
     "output_type": "stream",
     "text": [
      "<class 'pandas.core.frame.DataFrame'>\n",
      "RangeIndex: 891 entries, 0 to 890\n",
      "Data columns (total 12 columns):\n",
      " #   Column       Non-Null Count  Dtype  \n",
      "---  ------       --------------  -----  \n",
      " 0   PassengerId  891 non-null    int64  \n",
      " 1   Survived     891 non-null    int64  \n",
      " 2   Pclass       891 non-null    int64  \n",
      " 3   Name         891 non-null    object \n",
      " 4   Sex          891 non-null    object \n",
      " 5   Age          714 non-null    float64\n",
      " 6   SibSp        891 non-null    int64  \n",
      " 7   Parch        891 non-null    int64  \n",
      " 8   Ticket       891 non-null    object \n",
      " 9   Fare         891 non-null    float64\n",
      " 10  Cabin        204 non-null    object \n",
      " 11  Embarked     889 non-null    object \n",
      "dtypes: float64(2), int64(5), object(5)\n",
      "memory usage: 83.7+ KB\n"
     ]
    }
   ],
   "source": [
    "df.info()"
   ]
  },
  {
   "cell_type": "markdown",
   "id": "6320e5f2-002f-48f3-a63d-fb779194fea2",
   "metadata": {},
   "source": [
    "### Checking about missing values"
   ]
  },
  {
   "cell_type": "code",
   "execution_count": 64,
   "id": "c888ca35-62f9-4dc5-ada4-ad668db0375e",
   "metadata": {},
   "outputs": [
    {
     "data": {
      "text/plain": [
       "PassengerId     0.000000\n",
       "Survived        0.000000\n",
       "Pclass          0.000000\n",
       "Name            0.000000\n",
       "Sex             0.000000\n",
       "Age            19.865320\n",
       "SibSp           0.000000\n",
       "Parch           0.000000\n",
       "Ticket          0.000000\n",
       "Fare            0.000000\n",
       "Cabin          77.104377\n",
       "Embarked        0.224467\n",
       "dtype: float64"
      ]
     },
     "execution_count": 64,
     "metadata": {},
     "output_type": "execute_result"
    }
   ],
   "source": [
    "df_null = df.isnull().sum()/df.shape[0]*100\n",
    "df_null"
   ]
  },
  {
   "cell_type": "markdown",
   "id": "4490a82a-4321-4eb1-88b0-69c2e7d1e2cc",
   "metadata": {},
   "source": [
    "* Age, Cabin, Embarked has missing values.\n",
    "* Cabin has 77% missing values therefore we have to remove the column from data."
   ]
  },
  {
   "cell_type": "code",
   "execution_count": 65,
   "id": "4d9c0da3-89f3-4d3d-9d59-599a0e31595a",
   "metadata": {},
   "outputs": [],
   "source": [
    "# Droping the column Cabin\n",
    "df.drop(columns = 'Cabin', inplace = True)"
   ]
  },
  {
   "cell_type": "code",
   "execution_count": 66,
   "id": "cc05a168-3a3b-4ce1-99a4-0fee884daf97",
   "metadata": {},
   "outputs": [],
   "source": [
    "# Droping passenge id and ticket also\n",
    "df.drop(columns = ['PassengerId','Ticket'], inplace = True )"
   ]
  },
  {
   "cell_type": "code",
   "execution_count": 67,
   "id": "8904b17f-8fb8-4515-9d2a-da15f3fd1ffc",
   "metadata": {},
   "outputs": [],
   "source": [
    "df.drop(columns = 'Name', inplace = True)"
   ]
  },
  {
   "cell_type": "code",
   "execution_count": 68,
   "id": "6a40cb7e-ab01-4bf1-b0ae-ceeed243d639",
   "metadata": {},
   "outputs": [
    {
     "data": {
      "text/plain": [
       "Index(['Survived', 'Pclass', 'Sex', 'Age', 'SibSp', 'Parch', 'Fare',\n",
       "       'Embarked'],\n",
       "      dtype='object')"
      ]
     },
     "execution_count": 68,
     "metadata": {},
     "output_type": "execute_result"
    }
   ],
   "source": [
    "df.columns"
   ]
  },
  {
   "cell_type": "markdown",
   "id": "02253188-df65-426c-a415-4a6b3e8ec8d6",
   "metadata": {},
   "source": [
    "* column Cabin, passenger id, name and ticket was dropped"
   ]
  },
  {
   "cell_type": "markdown",
   "id": "eca0dd93-097d-4867-bf26-66caad5a0876",
   "metadata": {},
   "source": [
    "### Checking the duplicates from the data"
   ]
  },
  {
   "cell_type": "code",
   "execution_count": 69,
   "id": "9c8f7110-7cc7-4c39-bdaa-1be7a671b746",
   "metadata": {},
   "outputs": [
    {
     "data": {
      "text/plain": [
       "0      False\n",
       "1      False\n",
       "2      False\n",
       "3      False\n",
       "4      False\n",
       "       ...  \n",
       "886     True\n",
       "887    False\n",
       "888    False\n",
       "889    False\n",
       "890    False\n",
       "Length: 891, dtype: bool"
      ]
     },
     "execution_count": 69,
     "metadata": {},
     "output_type": "execute_result"
    }
   ],
   "source": [
    "df_duplicate = df.duplicated()\n",
    "df_duplicate"
   ]
  },
  {
   "cell_type": "markdown",
   "id": "19629c5f-38dc-48be-8c96-e7743bc5903e",
   "metadata": {},
   "source": [
    "* There is no any duplicate data."
   ]
  },
  {
   "cell_type": "markdown",
   "id": "1a7b719c-5699-4915-b9c7-3ffe6437c0fd",
   "metadata": {},
   "source": [
    "### Handling missing data"
   ]
  },
  {
   "cell_type": "code",
   "execution_count": 70,
   "id": "17314e48-76ed-4de4-b3ad-a2ec7a7eab13",
   "metadata": {},
   "outputs": [],
   "source": [
    "# mean immputation for age and mode imputation for empbarked\n",
    "df['Age'].fillna(df['Age'].mean(), inplace = True)"
   ]
  },
  {
   "cell_type": "code",
   "execution_count": 71,
   "id": "c4f74c53-55a8-4336-807e-1bde6faae5eb",
   "metadata": {},
   "outputs": [],
   "source": [
    "df['Embarked'].fillna(df['Embarked'].mode()[0], inplace = True)"
   ]
  },
  {
   "cell_type": "code",
   "execution_count": 72,
   "id": "067b16a8-8caa-4ae4-896f-b577cd616b98",
   "metadata": {},
   "outputs": [
    {
     "data": {
      "text/plain": [
       "Survived    0.0\n",
       "Pclass      0.0\n",
       "Sex         0.0\n",
       "Age         0.0\n",
       "SibSp       0.0\n",
       "Parch       0.0\n",
       "Fare        0.0\n",
       "Embarked    0.0\n",
       "dtype: float64"
      ]
     },
     "execution_count": 72,
     "metadata": {},
     "output_type": "execute_result"
    }
   ],
   "source": [
    "df_null = df.isnull().sum()/df.shape[0]*100\n",
    "df_null"
   ]
  },
  {
   "cell_type": "markdown",
   "id": "ef1d25bb-01c4-4f5e-9d89-6760e81f7364",
   "metadata": {},
   "source": [
    "* missing values has filled"
   ]
  },
  {
   "cell_type": "markdown",
   "id": "a9eed975-165b-4388-b564-e5b181e33a67",
   "metadata": {},
   "source": [
    "### Checking for Outliers"
   ]
  },
  {
   "cell_type": "code",
   "execution_count": 73,
   "id": "d30bbb99-8839-4e99-8195-30c2de41f62e",
   "metadata": {},
   "outputs": [
    {
     "data": {
      "image/png": "[encoded data removed]",
      "text/plain": [
       "<Figure size 640x480 with 1 Axes>"
      ]
     },
     "metadata": {},
     "output_type": "display_data"
    },
    {
     "data": {
      "image/png": "[encoded data removed]",
      "text/plain": [
       "<Figure size 640x480 with 1 Axes>"
      ]
     },
     "metadata": {},
     "output_type": "display_data"
    },
    {
     "data": {
      "image/png": "[encoded data removed]",
      "text/plain": [
       "<Figure size 640x480 with 1 Axes>"
      ]
     },
     "metadata": {},
     "output_type": "display_data"
    },
    {
     "data": {
      "image/png": "[encoded data removed]",
      "text/plain": [
       "<Figure size 640x480 with 1 Axes>"
      ]
     },
     "metadata": {},
     "output_type": "display_data"
    },
    {
     "data": {
      "image/png": "[encoded data removed]",
      "text/plain": [
       "<Figure size 640x480 with 1 Axes>"
      ]
     },
     "metadata": {},
     "output_type": "display_data"
    },
    {
     "data": {
      "image/png": "[encoded data removed]",
      "text/plain": [
       "<Figure size 640x480 with 1 Axes>"
      ]
     },
     "metadata": {},
     "output_type": "display_data"
    }
   ],
   "source": [
    "for i in df.select_dtypes(include = np.number).columns:\n",
    "    sns.boxplot(x = df[i])\n",
    "    plt.show()"
   ]
  },
  {
   "cell_type": "markdown",
   "id": "ebd86116-8a75-4033-81d1-6ab373865b12",
   "metadata": {},
   "source": [
    "* Age, Sibling/Spous, parant/child and fare has some outliers"
   ]
  },
  {
   "cell_type": "markdown",
   "id": "626ff974-05ec-4f68-851a-03f0048e3095",
   "metadata": {},
   "source": [
    "### Outlier Treatment"
   ]
  },
  {
   "cell_type": "code",
   "execution_count": 74,
   "id": "4591597c-3b63-44fe-9f0e-59c29ad83e24",
   "metadata": {},
   "outputs": [],
   "source": [
    "q1 = df['Age'].quantile(0.25)\n",
    "q3 = df['Age'].quantile(0.75)\n",
    "iqr = q3-q1\n",
    "ll = q1-1.5*iqr\n",
    "ul = q3+1.5*iqr\n"
   ]
  },
  {
   "cell_type": "code",
   "execution_count": 75,
   "id": "a814e48b-2d39-4a64-8213-807f8a6389ae",
   "metadata": {},
   "outputs": [],
   "source": [
    "df['Age'] = df['Age'].apply(lambda x:ll if x<ll else ul if x>ul else x)"
   ]
  },
  {
   "cell_type": "code",
   "execution_count": 76,
   "id": "6fc2fc76-f5c7-4819-837d-ec09f0f7ad66",
   "metadata": {},
   "outputs": [],
   "source": [
    "df['SibSp'] = df['SibSp'].apply(lambda x:ll if x<ll else ul if x>ul else x)"
   ]
  },
  {
   "cell_type": "code",
   "execution_count": 77,
   "id": "eb3b3758-3887-4b7b-8a57-bba6e66d760f",
   "metadata": {},
   "outputs": [],
   "source": [
    "df['Parch'] = df['Parch'].apply(lambda x:ll if x<ll else ul if x>ul else x)"
   ]
  },
  {
   "cell_type": "code",
   "execution_count": 78,
   "id": "a931db35-dea6-4f80-8379-ed9be00e89f0",
   "metadata": {},
   "outputs": [],
   "source": [
    "df['Fare'] = df['Fare'].apply(lambda x:ll if x<ll else ul if x>ul else x)"
   ]
  },
  {
   "cell_type": "code",
   "execution_count": 79,
   "id": "3970a520-8421-4edc-abac-3cbd3a0307f6",
   "metadata": {},
   "outputs": [
    {
     "data": {
      "image/png": "[encoded data removed]",
      "text/plain": [
       "<Figure size 640x480 with 1 Axes>"
      ]
     },
     "metadata": {},
     "output_type": "display_data"
    },
    {
     "data": {
      "image/png": "[encoded data removed]",
      "text/plain": [
       "<Figure size 640x480 with 1 Axes>"
      ]
     },
     "metadata": {},
     "output_type": "display_data"
    },
    {
     "data": {
      "image/png": "[encoded data removed]",
      "text/plain": [
       "<Figure size 640x480 with 1 Axes>"
      ]
     },
     "metadata": {},
     "output_type": "display_data"
    },
    {
     "data": {
      "image/png": "[encoded data removed]",
      "text/plain": [
       "<Figure size 640x480 with 1 Axes>"
      ]
     },
     "metadata": {},
     "output_type": "display_data"
    },
    {
     "data": {
      "image/png": "[encoded data removed]",
      "text/plain": [
       "<Figure size 640x480 with 1 Axes>"
      ]
     },
     "metadata": {},
     "output_type": "display_data"
    },
    {
     "data": {
      "image/png": "[encoded data removed]",
      "text/plain": [
       "<Figure size 640x480 with 1 Axes>"
      ]
     },
     "metadata": {},
     "output_type": "display_data"
    }
   ],
   "source": [
    "for i in df.select_dtypes(include = np.number).columns:\n",
    "    sns.boxplot(x = df[i])\n",
    "    plt.show()"
   ]
  },
  {
   "cell_type": "markdown",
   "id": "62d1a047-9777-4c22-a276-27f4aa02a62d",
   "metadata": {},
   "source": [
    "* Outlier are treated"
   ]
  },
  {
   "cell_type": "markdown",
   "id": "e7eb15df-b2a9-4281-ae95-b1d2203bfd5e",
   "metadata": {},
   "source": [
    "### Encoding for converting categorical to numerical features"
   ]
  },
  {
   "cell_type": "code",
   "execution_count": 80,
   "id": "554b6207-1cad-4352-b3f3-906bcaee4350",
   "metadata": {},
   "outputs": [
    {
     "data": {
      "text/plain": [
       "Index(['Survived', 'Pclass', 'Sex', 'Age', 'SibSp', 'Parch', 'Fare',\n",
       "       'Embarked'],\n",
       "      dtype='object')"
      ]
     },
     "execution_count": 80,
     "metadata": {},
     "output_type": "execute_result"
    }
   ],
   "source": [
    "df.columns"
   ]
  },
  {
   "cell_type": "code",
   "execution_count": 81,
   "id": "0f93ac27-ea7e-4aba-96df-857330d2ee6f",
   "metadata": {},
   "outputs": [
    {
     "data": {
      "text/plain": [
       "array(['male', 'female'], dtype=object)"
      ]
     },
     "execution_count": 81,
     "metadata": {},
     "output_type": "execute_result"
    }
   ],
   "source": [
    "df['Sex'].unique()"
   ]
  },
  {
   "cell_type": "code",
   "execution_count": 82,
   "id": "2c7f4e52-e62c-4ffa-9835-0849036dffab",
   "metadata": {},
   "outputs": [
    {
     "data": {
      "text/plain": [
       "array(['S', 'C', 'Q'], dtype=object)"
      ]
     },
     "execution_count": 82,
     "metadata": {},
     "output_type": "execute_result"
    }
   ],
   "source": [
    "df['Embarked'].unique()"
   ]
  },
  {
   "cell_type": "code",
   "execution_count": 84,
   "id": "1371a42a-dc27-465a-8412-a27e80e416c4",
   "metadata": {},
   "outputs": [],
   "source": [
    "df['Sex'] = df['Sex'].map({'male': 1, 'female': 0})\n",
    "df['Embarked'] = df['Embarked'].map({'S': 0, 'C': 1, 'Q': 2})"
   ]
  },
  {
   "cell_type": "code",
   "execution_count": 85,
   "id": "6ce6de32-4946-4a2f-9efd-a33c3704c524",
   "metadata": {},
   "outputs": [
    {
     "data": {
      "text/html": [
       "<div>\n",
       "<style scoped>\n",
       "    .dataframe tbody tr th:only-of-type {\n",
       "        vertical-align: middle;\n",
       "    }\n",
       "\n",
       "    .dataframe tbody tr th {\n",
       "        vertical-align: top;\n",
       "    }\n",
       "\n",
       "    .dataframe thead th {\n",
       "        text-align: right;\n",
       "    }\n",
       "</style>\n",
       "<table border=\"1\" class=\"dataframe\">\n",
       "  <thead>\n",
       "    <tr style=\"text-align: right;\">\n",
       "      <th></th>\n",
       "      <th>Survived</th>\n",
       "      <th>Pclass</th>\n",
       "      <th>Sex</th>\n",
       "      <th>Age</th>\n",
       "      <th>SibSp</th>\n",
       "      <th>Parch</th>\n",
       "      <th>Fare</th>\n",
       "      <th>Embarked</th>\n",
       "    </tr>\n",
       "  </thead>\n",
       "  <tbody>\n",
       "    <tr>\n",
       "      <th>0</th>\n",
       "      <td>0</td>\n",
       "      <td>3</td>\n",
       "      <td>1</td>\n",
       "      <td>22.0</td>\n",
       "      <td>2.5</td>\n",
       "      <td>2.5</td>\n",
       "      <td>7.250</td>\n",
       "      <td>0</td>\n",
       "    </tr>\n",
       "    <tr>\n",
       "      <th>1</th>\n",
       "      <td>1</td>\n",
       "      <td>1</td>\n",
       "      <td>0</td>\n",
       "      <td>38.0</td>\n",
       "      <td>2.5</td>\n",
       "      <td>2.5</td>\n",
       "      <td>54.500</td>\n",
       "      <td>1</td>\n",
       "    </tr>\n",
       "    <tr>\n",
       "      <th>2</th>\n",
       "      <td>1</td>\n",
       "      <td>3</td>\n",
       "      <td>0</td>\n",
       "      <td>26.0</td>\n",
       "      <td>2.5</td>\n",
       "      <td>2.5</td>\n",
       "      <td>7.925</td>\n",
       "      <td>0</td>\n",
       "    </tr>\n",
       "    <tr>\n",
       "      <th>3</th>\n",
       "      <td>1</td>\n",
       "      <td>1</td>\n",
       "      <td>0</td>\n",
       "      <td>35.0</td>\n",
       "      <td>2.5</td>\n",
       "      <td>2.5</td>\n",
       "      <td>53.100</td>\n",
       "      <td>0</td>\n",
       "    </tr>\n",
       "    <tr>\n",
       "      <th>4</th>\n",
       "      <td>0</td>\n",
       "      <td>3</td>\n",
       "      <td>1</td>\n",
       "      <td>35.0</td>\n",
       "      <td>2.5</td>\n",
       "      <td>2.5</td>\n",
       "      <td>8.050</td>\n",
       "      <td>0</td>\n",
       "    </tr>\n",
       "  </tbody>\n",
       "</table>\n",
       "</div>"
      ],
      "text/plain": [
       "   Survived  Pclass  Sex   Age  SibSp  Parch    Fare  Embarked\n",
       "0         0       3    1  22.0    2.5    2.5   7.250         0\n",
       "1         1       1    0  38.0    2.5    2.5  54.500         1\n",
       "2         1       3    0  26.0    2.5    2.5   7.925         0\n",
       "3         1       1    0  35.0    2.5    2.5  53.100         0\n",
       "4         0       3    1  35.0    2.5    2.5   8.050         0"
      ]
     },
     "execution_count": 85,
     "metadata": {},
     "output_type": "execute_result"
    }
   ],
   "source": [
    "df.head()"
   ]
  },
  {
   "cell_type": "markdown",
   "id": "98e0d6d9-9b5c-4821-a709-4f868378e3eb",
   "metadata": {},
   "source": [
    "### Checking the normal distribution usig histogram"
   ]
  },
  {
   "cell_type": "code",
   "execution_count": 96,
   "id": "67be9b66-dc4b-4f2b-834d-b6ce82095a4a",
   "metadata": {},
   "outputs": [
    {
     "data": {
      "image/png": "[encoded data removed]",
      "text/plain": [
       "<Figure size 1500x1000 with 8 Axes>"
      ]
     },
     "metadata": {},
     "output_type": "display_data"
    }
   ],
   "source": [
    "numerical_cols = df.select_dtypes(include=['int64', 'float64']).columns\n",
    "\n",
    "# Set up the layout\n",
    "plt.figure(figsize=(15, 10))\n",
    "for i, col in enumerate(numerical_cols, 1):\n",
    "    plt.subplot(3, 3, i)  # Adjust rows & columns based on number of features\n",
    "    df[col].hist(bins=30, edgecolor='black')\n",
    "    plt.title(f'{col} Histogram')\n",
    "    plt.xlabel(col)\n",
    "    plt.ylabel('Frequency')\n",
    "\n",
    "plt.tight_layout()\n",
    "plt.show()"
   ]
  },
  {
   "cell_type": "markdown",
   "id": "c6452525-ffc3-4a03-9b3f-bcd246200a42",
   "metadata": {},
   "source": [
    "### Checking data Normality using Shapiro wilk test"
   ]
  },
  {
   "cell_type": "code",
   "execution_count": 87,
   "id": "56310175-a98e-4d20-8140-d057aa4ab1fe",
   "metadata": {},
   "outputs": [
    {
     "name": "stdout",
     "output_type": "stream",
     "text": [
      "Shapiro-Wilk Test p-value: 7.352033376897566e-15\n",
      "Not Gaussian\n"
     ]
    }
   ],
   "source": [
    "from scipy.stats import shapiro\n",
    "\n",
    "stat, p = shapiro(df['Age'].dropna())\n",
    "print('Shapiro-Wilk Test p-value:', p)\n",
    "\n",
    "if p > 0.05:\n",
    "    print(\"Likely Gaussian (normal distribution)\")\n",
    "else:\n",
    "    print(\"Not Gaussian\")"
   ]
  },
  {
   "cell_type": "code",
   "execution_count": 89,
   "id": "3daaf34b-d4e4-4a24-bc8d-1f0e645980ce",
   "metadata": {},
   "outputs": [
    {
     "name": "stdout",
     "output_type": "stream",
     "text": [
      "Shapiro-Wilk Test p-value: 1.7945308393836472e-40\n",
      "Not Gaussian\n"
     ]
    }
   ],
   "source": [
    "stat, p = shapiro(df['Survived'].dropna())\n",
    "print('Shapiro-Wilk Test p-value:', p)\n",
    "\n",
    "if p > 0.05:\n",
    "    print(\"Likely Gaussian (normal distribution)\")\n",
    "else:\n",
    "    print(\"Not Gaussian\")"
   ]
  },
  {
   "cell_type": "code",
   "execution_count": 90,
   "id": "7dc88900-f44b-47b6-b4ff-4d15a489b4af",
   "metadata": {},
   "outputs": [
    {
     "name": "stdout",
     "output_type": "stream",
     "text": [
      "Shapiro-Wilk Test p-value: 3.3958319924210316e-36\n",
      "Not Gaussian\n"
     ]
    }
   ],
   "source": [
    "stat, p = shapiro(df['Pclass'].dropna())\n",
    "print('Shapiro-Wilk Test p-value:', p)\n",
    "\n",
    "if p > 0.05:\n",
    "    print(\"Likely Gaussian (normal distribution)\")\n",
    "else:\n",
    "    print(\"Not Gaussian\")"
   ]
  },
  {
   "cell_type": "code",
   "execution_count": 91,
   "id": "af38d3f8-79e4-4aa7-8f58-76a9fb0db961",
   "metadata": {},
   "outputs": [
    {
     "name": "stdout",
     "output_type": "stream",
     "text": [
      "Shapiro-Wilk Test p-value: 6.201446353869478e-41\n",
      "Not Gaussian\n"
     ]
    }
   ],
   "source": [
    "stat, p = shapiro(df['Sex'].dropna())\n",
    "print('Shapiro-Wilk Test p-value:', p)\n",
    "\n",
    "if p > 0.05:\n",
    "    print(\"Likely Gaussian (normal distribution)\")\n",
    "else:\n",
    "    print(\"Not Gaussian\")"
   ]
  },
  {
   "cell_type": "code",
   "execution_count": 92,
   "id": "09477e1b-bfd5-4cc0-afd1-fb61304d765a",
   "metadata": {},
   "outputs": [
    {
     "name": "stdout",
     "output_type": "stream",
     "text": [
      "Shapiro-Wilk Test p-value: 0.0\n",
      "Not Gaussian\n"
     ]
    }
   ],
   "source": [
    "stat, p = shapiro(df['SibSp'].dropna())\n",
    "print('Shapiro-Wilk Test p-value:', p)\n",
    "\n",
    "if p > 0.05:\n",
    "    print(\"Likely Gaussian (normal distribution)\")\n",
    "else:\n",
    "    print(\"Not Gaussian\")"
   ]
  },
  {
   "cell_type": "code",
   "execution_count": 93,
   "id": "32c355b5-912f-433e-a725-a6ff852f8020",
   "metadata": {},
   "outputs": [
    {
     "name": "stdout",
     "output_type": "stream",
     "text": [
      "Shapiro-Wilk Test p-value: 0.0\n",
      "Not Gaussian\n"
     ]
    }
   ],
   "source": [
    "stat, p = shapiro(df['Parch'].dropna())\n",
    "print('Shapiro-Wilk Test p-value:', p)\n",
    "\n",
    "if p > 0.05:\n",
    "    print(\"Likely Gaussian (normal distribution)\")\n",
    "else:\n",
    "    print(\"Not Gaussian\")"
   ]
  },
  {
   "cell_type": "code",
   "execution_count": 94,
   "id": "8482bc50-1c03-420e-82a1-2e06c5a25a48",
   "metadata": {},
   "outputs": [
    {
     "name": "stdout",
     "output_type": "stream",
     "text": [
      "Shapiro-Wilk Test p-value: 1.0431132333179936e-31\n",
      "Not Gaussian\n"
     ]
    }
   ],
   "source": [
    "stat, p = shapiro(df['Fare'].dropna())\n",
    "print('Shapiro-Wilk Test p-value:', p)\n",
    "\n",
    "if p > 0.05:\n",
    "    print(\"Likely Gaussian (normal distribution)\")\n",
    "else:\n",
    "    print(\"Not Gaussian\")"
   ]
  },
  {
   "cell_type": "code",
   "execution_count": 95,
   "id": "6d047a39-1f0a-4aff-af99-29a7e2250bb8",
   "metadata": {},
   "outputs": [
    {
     "name": "stdout",
     "output_type": "stream",
     "text": [
      "Shapiro-Wilk Test p-value: 3.6295031524477087e-41\n",
      "Not Gaussian\n"
     ]
    }
   ],
   "source": [
    "stat, p = shapiro(df['Embarked'].dropna())\n",
    "print('Shapiro-Wilk Test p-value:', p)\n",
    "\n",
    "if p > 0.05:\n",
    "    print(\"Likely Gaussian (normal distribution)\")\n",
    "else:\n",
    "    print(\"Not Gaussian\")"
   ]
  },
  {
   "cell_type": "markdown",
   "id": "101a44cd-68c5-43fc-ba63-2aeaa1ddce17",
   "metadata": {},
   "source": [
    "### Using normalization for equal magnitude"
   ]
  },
  {
   "cell_type": "code",
   "execution_count": 97,
   "id": "e99b7704-98e8-4474-843a-e1f1e8742d3a",
   "metadata": {},
   "outputs": [],
   "source": [
    "from sklearn.preprocessing import MinMaxScaler\n",
    "\n",
    "scaler = MinMaxScaler()\n",
    "df[numerical_cols] = scaler.fit_transform(df[numerical_cols])"
   ]
  },
  {
   "cell_type": "code",
   "execution_count": 98,
   "id": "0fe2107f-6295-4d91-a19f-c888472e5fbb",
   "metadata": {},
   "outputs": [
    {
     "name": "stdout",
     "output_type": "stream",
     "text": [
      "         Survived      Pclass         Sex         Age       SibSp       Parch  \\\n",
      "count  891.000000  891.000000  891.000000  891.000000  891.000000  891.000000   \n",
      "mean     0.383838    0.654321    0.647587    0.516862    0.017549    0.007856   \n",
      "std      0.486592    0.418036    0.477990    0.231962    0.101836    0.069773   \n",
      "min      0.000000    0.000000    0.000000    0.000000    0.000000    0.000000   \n",
      "25%      0.000000    0.500000    0.000000    0.375000    0.000000    0.000000   \n",
      "50%      0.000000    1.000000    1.000000    0.523060    0.000000    0.000000   \n",
      "75%      1.000000    1.000000    1.000000    0.625000    0.000000    0.000000   \n",
      "max      1.000000    1.000000    1.000000    1.000000    1.000000    1.000000   \n",
      "\n",
      "             Fare    Embarked  \n",
      "count  891.000000  891.000000  \n",
      "mean     0.385323    0.180696  \n",
      "std      0.335231    0.317837  \n",
      "min      0.000000    0.000000  \n",
      "25%      0.104046    0.000000  \n",
      "50%      0.229888    0.000000  \n",
      "75%      0.548077    0.500000  \n",
      "max      1.000000    1.000000  \n"
     ]
    }
   ],
   "source": [
    "# Check the result\n",
    "print(df[numerical_cols].describe())"
   ]
  }
 ],
 "metadata": {
  "kernelspec": {
   "display_name": "Python 3 (ipykernel)",
   "language": "python",
   "name": "python3"
  },
  "language_info": {
   "codemirror_mode": {
    "name": "ipython",
    "version": 3
   },
   "file_extension": ".py",
   "mimetype": "text/x-python",
   "name": "python",
   "nbconvert_exporter": "python",
   "pygments_lexer": "ipython3",
   "version": "3.11.7"
  }
 },
 "nbformat": 4,
 "nbformat_minor": 5
}
